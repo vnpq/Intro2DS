{
 "cells": [
  {
   "cell_type": "markdown",
   "metadata": {},
   "source": [
    "# HW00 (PART 02): CODING ENVIRONMENT SETUP AND, INTRODUCTION TO PYTHON\n"
   ]
  },
  {
   "cell_type": "markdown",
   "metadata": {},
   "source": [
    "This is Assignment 00 for the course \"Introduction to Data Science\" at the Faculty of Information Technology, University of Science, Vietnam National University, Ho Chi Minh City."
   ]
  },
  {
   "cell_type": "markdown",
   "metadata": {},
   "source": [
    "(Latest update: 09/08/2024)\n",
    "\n",
    "Student Name: Võ Nguyễn Phương Quỳnh\n",
    "\n",
    "Student ID: 22127360"
   ]
  },
  {
   "cell_type": "markdown",
   "metadata": {},
   "source": [
    "---\n"
   ]
  },
  {
   "cell_type": "markdown",
   "metadata": {},
   "source": [
    "## **Assignment Objectives**\n",
    "\n",
    "In this assignment, we will introduce you to setting up a Python environment with Anaconda and familiarize you with the Python programming language. Additionally, we will introduce some basic data types that you will frequently encounter in the future, including digital images and text."
   ]
  },
  {
   "cell_type": "markdown",
   "metadata": {},
   "source": [
    "## **How to Complete and Submit the Assignment**\n",
    "\n",
    "&#9889; **Note**: You should follow the instructions below. If anything is unclear, you need to contact the teaching assistant or instructor immediately for timely support.\n",
    "\n",
    "**How to Do the Assignment**\n",
    "\n",
    "You will work directly on this notebook file. First, fill in your full name and student ID (MSSV) in the header section of the file above. In the file, complete the tasks in sections marked:\n",
    "```python\n",
    "# YOUR CODE HERE\n",
    "raise NotImplementedError()\n",
    "```\n",
    "Or for optional code sections:\n",
    "```python\n",
    "# YOUR CODE HERE (OPTION)\n",
    "```\n",
    "For markdown cells, complete the answer in the section marked:\n",
    "```markdown\n",
    "YOUR ANSWER HERE\n",
    "```\n",
    "\n",
    "**How to Submit the Assignment**\n",
    "\n",
    "Before submitting, select `Kernel` -> `Restart Kernel & Run All Cells` if you are using a local environment, or `Runtime -> Restart session` and run all if using Google Colab, to ensure everything works as expected.\n",
    "\n",
    "Next, create a submission folder with the following structure:\n",
    "- Folder named `MSSV` (for example, if your student ID is `1234567`, name the folder `1234567`)\n",
    "    - File `HW00.ipynb` (no need to submit other files)\n",
    "\n",
    "Finally, compress this `MSSV` folder in `.zip` format (not `.rar` or any other format) and submit it via the link on Moodle.\\\n",
    "<font color=red>Please make sure to strictly follow this submission guideline..</font>"
   ]
  },
  {
   "cell_type": "markdown",
   "metadata": {},
   "source": [
    "## Imports"
   ]
  },
  {
   "cell_type": "code",
   "execution_count": 1,
   "metadata": {},
   "outputs": [],
   "source": [
    "import platform\n",
    "import os\n",
    "import sys"
   ]
  },
  {
   "cell_type": "markdown",
   "metadata": {},
   "source": [
    "## Helper functions"
   ]
  },
  {
   "cell_type": "code",
   "execution_count": 2,
   "metadata": {},
   "outputs": [],
   "source": [
    "def checkingPlatform() -> dict:\n",
    "    \"\"\"\n",
    "    Retrieves platform-related information for the current operating system environment.\n",
    "\n",
    "    Returns:\n",
    "        dict: A dictionary containing the following platform information:\n",
    "            - 'platform_system': The system/OS name, e.g., 'Linux', 'Windows', etc.\n",
    "            - 'os_name': The name of the operating system dependent module imported, e.g., 'posix', 'nt', etc.\n",
    "            - 'sys_platform': A string representing the platform the script is running on, e.g., 'linux', 'win32', etc.\n",
    "            - 'platform_release': The release version of the operating system.\n",
    "            - 'platform_version': The detailed version of the operating system.\n",
    "            - 'platform_description': A string that combines various platform details.\n",
    "    \"\"\"\n",
    "    return {\n",
    "        'platform_system': platform.system(),\n",
    "        'os_name': os.name,\n",
    "        'sys_platform': sys.platform,\n",
    "        'platform_release': platform.release(),\n",
    "        'platform_version': platform.version(),\n",
    "        'platform_description': platform.platform()\n",
    "    }"
   ]
  },
  {
   "cell_type": "markdown",
   "metadata": {},
   "source": [
    "## Check your coding environment\n",
    "\n",
    "This section is used to check your programming environment. I don’t care which operating system you are using (Windows 11/10 or any Linux distribution). You need to set up the environment that works best for you on your own."
   ]
  },
  {
   "cell_type": "code",
   "execution_count": null,
   "metadata": {},
   "outputs": [],
   "source": [
    "checkingPlatform()"
   ]
  },
  {
   "cell_type": "markdown",
   "metadata": {},
   "source": [
    "## Introduction to Python\n"
   ]
  },
  {
   "cell_type": "code",
   "execution_count": null,
   "metadata": {},
   "outputs": [],
   "source": [
    "print(\"Hello, World!\")"
   ]
  },
  {
   "cell_type": "code",
   "execution_count": null,
   "metadata": {},
   "outputs": [],
   "source": [
    "# Replace \"Nam\" with your name\n",
    "# YOUR CODE HERE\n",
    "raise NotImplementedError()\n",
    "print(\"My name is Phuong Quynh\")"
   ]
  },
  {
   "cell_type": "markdown",
   "metadata": {},
   "source": [
    "### Declare a Variable\n",
    "\n",
    "⚒ Declare an integer variable for the number 5 and use the print function to display that integer.\n"
   ]
  },
  {
   "cell_type": "code",
   "execution_count": null,
   "metadata": {},
   "outputs": [],
   "source": [
    "# Declare the int_number\n",
    "int_number = 5\n",
    "\n",
    "# Print the int_number\n",
    "print(int_number)"
   ]
  },
  {
   "cell_type": "markdown",
   "metadata": {},
   "source": [
    "Python also supports floating-point numbers (float).\n",
    "\n",
    "⚒ Declare a floating-point variable for the decimal number 4.5 and use the print function to display that number."
   ]
  },
  {
   "cell_type": "code",
   "execution_count": null,
   "metadata": {},
   "outputs": [],
   "source": [
    "# Declare the float_number\n",
    "float_number = 4.5\n",
    "\n",
    "# Print the int\n",
    "print(float_number)"
   ]
  },
  {
   "cell_type": "markdown",
   "metadata": {},
   "source": [
    "Declare an integer with a value of 10 and a floating-point number with a value of 5.0, then print their sum and product."
   ]
  },
  {
   "cell_type": "code",
   "execution_count": null,
   "metadata": {},
   "outputs": [],
   "source": [
    "# Declare a integer and a float\n",
    "int_number = 10\n",
    "float_number = 5.0\n",
    "\n",
    "# Calculate the sum\n",
    "sum = int_number + float_number\n",
    "\n",
    "# Print sum\n",
    "print(\"The sum is:\")\n",
    "print(sum)\n",
    "\n",
    "# Print the product directly in a single step\n",
    "print(\"The product is:\")\n",
    "print(int_number * float_number)"
   ]
  },
  {
   "cell_type": "markdown",
   "metadata": {},
   "source": [
    "### You can also declare a sentence/words(string of charectors)\n",
    "\n",
    "Solve this problem.\n",
    "\n",
    "❓Declare a `string` with {your name} as value.\n",
    "\n",
    "⚒ Solve by replacing the name \"Ram\" with your name.\n"
   ]
  },
  {
   "cell_type": "code",
   "execution_count": null,
   "metadata": {},
   "outputs": [],
   "source": [
    "# Declare the string for someone whose name is Ram\n",
    "str = \"Phuong Quynh\"\n",
    "\n",
    "print(\"My name is \" + str)"
   ]
  },
  {
   "cell_type": "markdown",
   "metadata": {},
   "source": [
    "### ⚠ Did you noticed ?\n",
    "\n",
    "When you declare numbers(integers or float), you can simply assign it to a variable without getting any error.\n",
    "\n",
    "```\n",
    "int = 5\n",
    "float = 10.0\n",
    "\n",
    "```\n",
    "\n",
    "But when you are trying to declare a string,\n",
    "\n",
    "❎ You cannot do that, you'll get an error.\n",
    "\n",
    "```\n",
    "str = ram\n",
    "```\n",
    "\n",
    "✅ You have to use apostrophe,then it's fine.\n",
    "\n",
    "```\n",
    "str = \"ram\"\n",
    "```\n"
   ]
  },
  {
   "cell_type": "code",
   "execution_count": null,
   "metadata": {},
   "outputs": [],
   "source": [
    "# Try these here\n",
    "# str = ram\n",
    "\n",
    "str = \"ram\"\n",
    "\n",
    "print(str)"
   ]
  },
  {
   "cell_type": "markdown",
   "metadata": {},
   "source": [
    "### ⚠ Other issues.\n",
    "\n",
    "✅ You can do this:\n",
    "\n",
    "```\n",
    "int = 5\n",
    "float = 10.0\n",
    "print(int+float)\n",
    "```\n",
    "\n",
    "❎ You cannot do this:\n",
    "\n",
    "```\n",
    "int = 4\n",
    "str = \"8\"\n",
    "print(int+str)\n",
    "```\n"
   ]
  },
  {
   "cell_type": "code",
   "execution_count": null,
   "metadata": {},
   "outputs": [],
   "source": [
    "# You get an type error when you are trying to add string with int or float, try here.\n",
    "int = 5\n",
    "str = \"5\"\n",
    "\n",
    "print(str + int)\n",
    "\n",
    "# print(str, int)"
   ]
  },
  {
   "cell_type": "markdown",
   "metadata": {},
   "source": [
    "### **This is the python syntax.**\n",
    "\n",
    "Just like you cannot add a word with a number, in python you cannot add strings with numbers(integers/floats).\n",
    "\n",
    "When we assign some value to a variable inside single/double quotation,like:\n",
    "\n",
    "```\n",
    "str = \"some string value\"\n",
    "```\n",
    "\n",
    "Python assumes it as a string. We'll discuss why later.\n",
    "\n",
    "**A string can be any charector or digits.**\n",
    "\n",
    "So, when we write:\n",
    "\n",
    "```\n",
    "str = \"5\"\n",
    "```\n",
    "\n",
    "Here, 5 is not an integer but a string, that's why in the above example we get an `TypeError`.\n",
    "\n",
    "_Now before you ask what does `TypeError` mean and what the heck is type in python, I would like you to rosolve the above issues by yourself._\n"
   ]
  },
  {
   "cell_type": "markdown",
   "metadata": {},
   "source": [
    "## **Data Types in python**\n",
    "\n",
    "In Python, like in all programming languages, data types are used to classify one particular type of data. This is important because the specific data type you use will determine what values you can assign to it and what you can do to it (including what operations you can perform on it).\n",
    "\n",
    "**Python has the following data types built-in by default, in these categories:**\n",
    "\n",
    "|   Categories   |          Data Type           |\n",
    "| :------------: | :--------------------------: |\n",
    "|   Text Type    |             str              |\n",
    "| Numeric Types  |     int, float, complex      |\n",
    "| Sequence Types |      list, tuple, range      |\n",
    "|  Mapping Type  |             dict             |\n",
    "|   Set Types    |        set, frozenset        |\n",
    "|  Boolean Type  |             bool             |\n",
    "|  Binary Types  | bytes, bytearray, memoryview |\n",
    "|   None Type    |             None             |\n",
    "\n",
    "### Commonly used data types\n",
    "\n",
    "---\n",
    "\n",
    "- String (str)\n",
    "- Number (int, float )\n",
    "- Array (list)\n",
    "- Dictionary (dict)\n",
    "- Boolean (bool)\n"
   ]
  },
  {
   "cell_type": "code",
   "execution_count": null,
   "metadata": {},
   "outputs": [],
   "source": [
    "# String (str)\n",
    "foo = \"Hello world\"\n",
    "\n",
    "# You can print the data types by using the function type, like this...\n",
    "print(type(foo))"
   ]
  },
  {
   "cell_type": "code",
   "execution_count": null,
   "metadata": {},
   "outputs": [],
   "source": [
    "# Number (int)\n",
    "foo = 8\n",
    "\n",
    "# Number (float)\n",
    "bar = 7.0\n",
    "\n",
    "# You can print the data types by using the function type, like this...\n",
    "print(type(foo))\n",
    "print(type(bar))"
   ]
  },
  {
   "cell_type": "code",
   "execution_count": null,
   "metadata": {},
   "outputs": [],
   "source": [
    "# Array (list)\n",
    "foo = [\"apple\", \"banana\", \"cherry\"]\n",
    "\n",
    "# You can print the data types by using the function type, like this...\n",
    "print(type(foo))"
   ]
  },
  {
   "cell_type": "code",
   "execution_count": null,
   "metadata": {},
   "outputs": [],
   "source": [
    "# Boolean (bool)\n",
    "foo = True\n",
    "\n",
    "# You can print the data types by using the function type, like this...\n",
    "print(type(foo))"
   ]
  },
  {
   "cell_type": "code",
   "execution_count": null,
   "metadata": {},
   "outputs": [],
   "source": [
    "# Object Notation/Dictionary (dict)\n",
    "foo = {\"name\": \"John\", \"age\": 36}\n",
    "\n",
    "# You can print the data types by using the function type, like this...\n",
    "print(type(foo))"
   ]
  },
  {
   "cell_type": "markdown",
   "metadata": {},
   "source": [
    "## Basic math operators in Python\n"
   ]
  },
  {
   "cell_type": "markdown",
   "metadata": {},
   "source": [
    "### **Arithmatic Operators**\n",
    "\n",
    "⚒ Play with numbers by changing numbers and running the cell.\n"
   ]
  },
  {
   "cell_type": "code",
   "execution_count": null,
   "metadata": {},
   "outputs": [],
   "source": [
    "# Addition\n",
    "eight = 3+5  # 3+5 = 8\n",
    "\n",
    "print(eight)"
   ]
  },
  {
   "cell_type": "code",
   "execution_count": null,
   "metadata": {},
   "outputs": [],
   "source": [
    "# Subtraction\n",
    "\n",
    "two = 5-3  # 5-3 = 2\n",
    "\n",
    "print(two)"
   ]
  },
  {
   "cell_type": "code",
   "execution_count": null,
   "metadata": {},
   "outputs": [],
   "source": [
    "# Multiplication\n",
    "\n",
    "ten = 5*2  # 5×2=10\n",
    "\n",
    "print(ten)"
   ]
  },
  {
   "cell_type": "code",
   "execution_count": null,
   "metadata": {},
   "outputs": [],
   "source": [
    "# Division (Quotient)\n",
    "\n",
    "four = 12/3  # 12÷3=4\n",
    "\n",
    "print(four)"
   ]
  },
  {
   "cell_type": "code",
   "execution_count": null,
   "metadata": {},
   "outputs": [],
   "source": [
    "# Remainder in Division\n",
    "\n",
    "five = 17 % 6  # 17÷6= (12+5)÷6 =  2/5 [quotient/remainder]\n",
    "\n",
    "print(five)"
   ]
  },
  {
   "cell_type": "code",
   "execution_count": null,
   "metadata": {},
   "outputs": [],
   "source": [
    "# Exponents\n",
    "\n",
    "nine = 3**2  # 3^2 = 3×3=9\n",
    "print(nine)"
   ]
  },
  {
   "cell_type": "markdown",
   "metadata": {},
   "source": [
    "### Using Operators with Strings\n"
   ]
  },
  {
   "cell_type": "code",
   "execution_count": null,
   "metadata": {},
   "outputs": [],
   "source": [
    "# Concatenation (adding up)\n",
    "\n",
    "helloworld = \"hello\" + \" \" + \"world\"  # \"hello world\"\n",
    "\n",
    "print(helloworld)"
   ]
  },
  {
   "cell_type": "code",
   "execution_count": null,
   "metadata": {},
   "outputs": [],
   "source": [
    "# Repeatation\n",
    "\n",
    "lotsofhellos = \"hello\\n\" * 10  # \\n equates to new line.\n",
    "\n",
    "print(lotsofhellos)"
   ]
  },
  {
   "cell_type": "markdown",
   "metadata": {},
   "source": [
    "### Using Operators with Lists\n"
   ]
  },
  {
   "cell_type": "code",
   "execution_count": null,
   "metadata": {},
   "outputs": [],
   "source": [
    "# Joining list items together.\n",
    "\n",
    "even_numbers = [2, 4, 6, 8]\n",
    "odd_numbers = [1, 3, 5, 7]\n",
    "all_numbers = odd_numbers + even_numbers\n",
    "\n",
    "print(all_numbers)"
   ]
  },
  {
   "cell_type": "code",
   "execution_count": null,
   "metadata": {},
   "outputs": [],
   "source": [
    "# Repeatation\n",
    "\n",
    "print([1, 2, 3] * 3)"
   ]
  },
  {
   "cell_type": "markdown",
   "metadata": {},
   "source": [
    "### Boolean operators\n"
   ]
  },
  {
   "cell_type": "code",
   "execution_count": null,
   "metadata": {},
   "outputs": [],
   "source": [
    "# Boolean Conditionals\n",
    "\n",
    "x = 2\n",
    "if x == 2:\n",
    "    print(\"x equals two!\")\n",
    "else:\n",
    "    print(\"x does not equal to two.\")"
   ]
  },
  {
   "cell_type": "markdown",
   "metadata": {},
   "source": [
    "### Loop operators\n"
   ]
  },
  {
   "cell_type": "markdown",
   "metadata": {},
   "source": [
    "#### For Loop\n"
   ]
  },
  {
   "cell_type": "code",
   "execution_count": null,
   "metadata": {},
   "outputs": [],
   "source": [
    "# Print all the prime numbers upto 10 hardcoded.\n",
    "\n",
    "primes = [2, 3, 5, 7]\n",
    "for prime in primes:\n",
    "    print(prime)"
   ]
  },
  {
   "cell_type": "code",
   "execution_count": null,
   "metadata": {},
   "outputs": [],
   "source": [
    "# Using range functions in a for loop\n",
    "\n",
    "for x in range(3, 6):\n",
    "    print(x)  # Prints out 3,4,5"
   ]
  },
  {
   "cell_type": "markdown",
   "metadata": {},
   "source": [
    "#### While Loop\n"
   ]
  },
  {
   "cell_type": "code",
   "execution_count": null,
   "metadata": {},
   "outputs": [],
   "source": [
    "count = 0\n",
    "while (count < 5):\n",
    "    print(f\"Count value is {count}\")\n",
    "    count += 1\n",
    "else:\n",
    "    print(f\"Count value reached {count}\")"
   ]
  },
  {
   "cell_type": "markdown",
   "metadata": {},
   "source": [
    "## Phương pháp lập trình với Python\n"
   ]
  },
  {
   "cell_type": "markdown",
   "metadata": {},
   "source": [
    "- Functional Programming\n",
    "- Object oriented Programming\n"
   ]
  },
  {
   "cell_type": "markdown",
   "metadata": {},
   "source": [
    "### **Functions**\n",
    "\n",
    "Functions are a convenient way to divide your code into useful blocks, allowing us to order our code, make it more readable, reuse it and save some time. Also functions are a key way to define interfaces so programmers can share their code.\n",
    "\n",
    "A typical function in python looks like:\n",
    "\n",
    "```python\n",
    "def functionalBlock():\n",
    "  print(\"Hello World\")\n",
    "  ...\n",
    "```\n"
   ]
  },
  {
   "cell_type": "code",
   "execution_count": null,
   "metadata": {},
   "outputs": [],
   "source": [
    "# Let's create a function that takes two numbers and returns their sum.\n",
    "\n",
    "def sumOfTwoNumbers(a, b):\n",
    "    return a + b\n",
    "\n",
    "\n",
    "sumOfTwoNumbers(12, 3)"
   ]
  },
  {
   "cell_type": "markdown",
   "metadata": {},
   "source": [
    "TODO: Recreate the calculator you've build in the exercise 04 of previous module with functional block/components for every operations.\n",
    "\n",
    "Create an calculator which will take two numbers and one operations such as plus(+), minus (-), into(×), by(÷), remainder(/*), power(^), percentage (%) as input and returns the calculated value as output."
   ]
  },
  {
   "cell_type": "code",
   "execution_count": null,
   "metadata": {},
   "outputs": [],
   "source": [
    "# YOUR CODE HERE\n",
    "def calculator(a, b, operator):\n",
    "    if operator == '+':\n",
    "        return a + b\n",
    "    elif operator == '-':\n",
    "        return a - b\n",
    "    elif operator == '×':\n",
    "        return a * b\n",
    "    elif operator == '÷':\n",
    "        return a / b\n",
    "    elif operator == '/*':\n",
    "        return a % b\n",
    "    elif operator == '^':\n",
    "        return a ** b\n",
    "    elif operator == \"%\":\n",
    "        return 100 * a / b\n",
    "    else:\n",
    "        return \"Invalid operator\"\n",
    "\n",
    "raise NotImplementedError()"
   ]
  },
  {
   "cell_type": "markdown",
   "metadata": {},
   "source": [
    "### **Classes and Objects**\n",
    "\n",
    "Objects are an encapsulation of variables and functions into a single entity. Objects get their variables and functions from classes. Classes are essentially a template to create your objects.\n",
    "\n",
    "A very basic class in python would look something like this:\n"
   ]
  },
  {
   "cell_type": "code",
   "execution_count": null,
   "metadata": {},
   "outputs": [],
   "source": [
    "class MyClass:\n",
    "    variable = \"blah\"\n",
    "\n",
    "    def func(self):\n",
    "        print(f\"The message inside the class is: {self.variable}.\")\n",
    "\n",
    "\n",
    "# Accessing Object Variables\n",
    "var = MyClass.variable\n",
    "print(var)\n",
    "\n",
    "# Accessing Object Functions\n",
    "cls = MyClass()\n",
    "cls.func()\n",
    "\n",
    "# Or you can simply call it directly.\n",
    "MyClass().function()"
   ]
  },
  {
   "cell_type": "markdown",
   "metadata": {},
   "source": [
    "#### A short note on **Self** argument:\n",
    "\n",
    "> Self is the first argument to be passed in Constructor and Instance Method.\n",
    "\n",
    "`self` represents the instance of the class or object. By using the `self` we can access the attributes (variables) and methods (functions) of the class in python. It binds the attributes with the given arguments. Self is a convention and not a Python keyword ,So anything can be used in the place of self but it is advised to use self for readibility purposes.\n",
    "\n",
    "> Self is always pointing to Current Object.\n",
    "\n",
    "As we have learned already that a class is essentially a template to create your object, let's understand what that means by applying it.\n"
   ]
  },
  {
   "cell_type": "code",
   "execution_count": null,
   "metadata": {},
   "outputs": [],
   "source": [
    "# Creating template.\n",
    "class TemplateClass:\n",
    "    variable = \"foo\"\n",
    "\n",
    "    def func(self):\n",
    "        print(f\"The message inside this object is: {self.variable}.\")\n",
    "\n",
    "\n",
    "# Creating objects\n",
    "objx = TemplateClass()\n",
    "objy = TemplateClass()\n",
    "\n",
    "# Changing the value of the variable in an object\n",
    "objy.variable = \"bar\"\n",
    "\n",
    "# Let's run their respective functions\n",
    "objx.func()\n",
    "objy.func()"
   ]
  },
  {
   "cell_type": "markdown",
   "metadata": {},
   "source": [
    "#### **Init function**\n",
    "\n",
    "The `__init__()` function, is a special function that is called when the class is being initiated. It's used for assigning values in a class.\n"
   ]
  },
  {
   "cell_type": "code",
   "execution_count": null,
   "metadata": {},
   "outputs": [],
   "source": [
    "class NumberHolder:\n",
    "\n",
    "    def __init__(self, number):\n",
    "        self.number = number\n",
    "\n",
    "    def returnNumber(self):\n",
    "        return self.number\n",
    "\n",
    "\n",
    "var = NumberHolder(8)\n",
    "print(var.returnNumber())  # Prints '7'"
   ]
  },
  {
   "cell_type": "markdown",
   "metadata": {},
   "source": [
    "TODO: Create a class defined for vehicles. Create two new vehicles called tesla and tata. Set tesla to be a 'Red Model S' worth 100,000.00, and tata to be a black 'Black Land Rover' worth 10,000.00."
   ]
  },
  {
   "cell_type": "code",
   "execution_count": null,
   "metadata": {},
   "outputs": [],
   "source": [
    "# Creating a class instance/template, So that we don't have to rewrite same code multiple times.\n",
    "class Vehicle:\n",
    "    def __init__(self, name, color, worth):\n",
    "      # arguments received by the init functions are to be passed while constructing the new object from this instance\n",
    "        self.name = name\n",
    "        self.color = color\n",
    "        self.worth = worth\n",
    "\n",
    "    def description(self):\n",
    "        return f\"{self.name} is a {self.color} car worth {self.worth}.\"\n",
    "\n",
    "\n",
    "# Values passed here are assigned as attributes of the object.\n",
    "tesla = Vehicle(\"Model S\", \"Red\", 100000)\n",
    "# For example, \"Model S\" is assigned to `tesla.name`, \"Red\" is assigned to `tesla.color` and so on...\n",
    "\n",
    "tata = Vehicle(\"Land Rover\", \"Black\", 125000)\n",
    "\n",
    "tesla.description(), tata.description()"
   ]
  },
  {
   "cell_type": "code",
   "execution_count": null,
   "metadata": {},
   "outputs": [],
   "source": [
    "# As we have self is not a python keyword but a convention, let's rewrite above code without using self.\n",
    "class Vehicle:\n",
    "    def __init__(this, name, color, worth):\n",
    "        this.name = name\n",
    "        this.color = color\n",
    "        this.worth = worth\n",
    "\n",
    "    def description(of):\n",
    "        return f\"{of.name} is a {of.color} car worth {of.worth}.\"\n",
    "\n",
    "    def show(my):\n",
    "        return print(my.description())\n",
    "\n",
    "# As you can see you can use anything, given it is the first argument it'll work just fine.\n",
    "# But it feels a bit confusing don't you think? that's why self is convention used by most coders.\n",
    "\n",
    "\n",
    "tesla = Vehicle(\"Model S\", \"Red\", 100000)\n",
    "tata = Vehicle(\"Land Rover\", \"Black\", 125000)\n",
    "\n",
    "tesla.show()\n",
    "\n",
    "tata.show()"
   ]
  },
  {
   "cell_type": "markdown",
   "metadata": {},
   "source": [
    "### Python Dictionaries (dict)\n",
    "\n",
    "A dictionary is a data type similar to arrays, but works with keys and values instead of indexes. Each value stored in a dictionary can be accessed using a key, which is any type of object (a string, a number, a list, etc.) instead of using its index to address it.\n",
    "\n",
    "If you've worked with JSON(JavaScript Object Notation) before, python dictionary is almost the same. If you don't know json, you will! as we start working with json.\n",
    "\n",
    "For example, a database of phone numbers could be stored using a dictionary like this:\n"
   ]
  },
  {
   "cell_type": "code",
   "execution_count": null,
   "metadata": {},
   "outputs": [],
   "source": [
    "# Declaring the dict. An empty dict can declared too.\n",
    "phonebook = {\n",
    "    \"John\": 938477566,\n",
    "    \"Jack\": 938377264,\n",
    "    \"Jill\": 947662781\n",
    "}\n",
    "\n",
    "# Print the entire dict\n",
    "print(phonebook)\n",
    "\n",
    "\n",
    "# You can add new value pairs to dict like this:\n",
    "phonebook[\"James\"] = 947662581\n",
    "\n",
    "\n",
    "# You can delete a new value pair like this:\n",
    "del phonebook[\"John\"]\n",
    "\n",
    "# Or like this\n",
    "# phonebook.pop(\"Jack\")\n",
    "\n",
    "# Or delete entire dict\n",
    "# phonebook.clear()\n",
    "\n",
    "\n",
    "# Print one key value pair\n",
    "print(phonebook[\"Jill\"])\n",
    "\n",
    "# You can loop over the dict value pairs like this:\n",
    "for name, number in phonebook.items():\n",
    "    print(f\"Phone number of {name} is {number}\")"
   ]
  }
 ],
 "metadata": {
  "kernelspec": {
   "display_name": "min_ds-env2",
   "language": "python",
   "name": "python3"
  },
  "language_info": {
   "codemirror_mode": {
    "name": "ipython",
    "version": 3
   },
   "file_extension": ".py",
   "mimetype": "text/x-python",
   "name": "python",
   "nbconvert_exporter": "python",
   "pygments_lexer": "ipython3",
   "version": "3.10.15"
  }
 },
 "nbformat": 4,
 "nbformat_minor": 2
}
